{
 "cells": [
  {
   "cell_type": "markdown",
   "id": "2bbdc5aa-b1a6-46dd-8ba9-35593e7741c1",
   "metadata": {},
   "source": [
    "# CV Lab project - Image Integration\n",
    "\n",
    "Data Exploration\n",
    "\n",
    "Description of the data:\n",
    "\n",
    "* datasets:\n",
    "    * train set, in each folder contains f-c.png and the json of the homography...\n",
    "    * validation set, contains f-c.png, homographies and true label\n",
    "    * test set, for submission\n",
    "\n",
    "* 7 frames for each of the 10 cameras à 70 images for each sample \n",
    "    * f $\\in$ {0,1,2,3,4,5,6}, where 3 is the center frame and\n",
    "    * c $\\in$ B01,...,B05,G01,...,G05 ,where B01 is the center camera"
   ]
  },
  {
   "cell_type": "markdown",
   "id": "4d22f28b",
   "metadata": {},
   "source": [
    "# ref:\n",
    "* https://www.py4u.net/discuss/1950670"
   ]
  },
  {
   "cell_type": "code",
   "execution_count": 1,
   "id": "e2d63e3d-9bb0-4541-8e8e-4e051cf5f881",
   "metadata": {},
   "outputs": [],
   "source": [
    "import pandas as pd\n",
    "import cv2\n",
    "import numpy as np\n",
    "import matplotlib.pyplot as plt\n",
    "import os\n",
    "import re\n",
    "\n",
    "# import torch\n",
    "# import torchvision.transforms as T\n",
    "# from torchvision.utils import draw_bounding_boxes\n",
    "# from torchvision.models.vgg import vgg16\n",
    "#\n",
    "# model = vgg16(pretrained=True, progress=False)\n",
    "# model = model.eval()\n"
   ]
  },
  {
   "cell_type": "markdown",
   "id": "c9d2e3c9",
   "metadata": {},
   "source": [
    "### Merging and Saving the Data\n",
    "\n",
    "To merge and save merged the images in respective folders"
   ]
  },
  {
   "cell_type": "code",
   "execution_count": 2,
   "id": "20699602",
   "metadata": {},
   "outputs": [],
   "source": [
    "def load_images_from_folder(folder, filter=None, masking=False):\n",
    "    images = []\n",
    "    mask = cv2.imread('data/mask.png',0)\n",
    "    for filename in os.listdir(folder):\n",
    "        img = None\n",
    "        if filter is None:\n",
    "            #print('?')\n",
    "            img = cv2.imread(os.path.join(folder,filename))\n",
    "            #apply masking\n",
    "            if masking:\n",
    "                img = cv2.bitwise_and(img,img,mask=mask)\n",
    "        else:\n",
    "            if filename in filter:\n",
    "                #print(filename)\n",
    "                img = cv2.imread(os.path.join(folder,filename))\n",
    "                if masking:\n",
    "                    img = cv2.bitwise_and(img,img,mask=mask)\n",
    "                \n",
    "        if img is not None:\n",
    "            images.append(img)\n",
    "    #print('Loaded {} images'.format(len(images)))\n",
    "    return images\n",
    "\n",
    "def makenumpy(df):\n",
    "    m = None\n",
    "    for r in df:\n",
    "        if m is None:\n",
    "            m = np.array(r).reshape(1,-1)\n",
    "        else:\n",
    "            m = np.concatenate((m,np.array(r).reshape(1,-1)),axis=0)\n",
    "    return m"
   ]
  },
  {
   "cell_type": "code",
   "execution_count": 7,
   "id": "64930ca7",
   "metadata": {},
   "outputs": [],
   "source": [
    "def merg_v1(warped):\n",
    "    c = (warped > 0).sum(axis=0)\n",
    "    warped_ = warped.sum(axis=0).squeeze()\n",
    "    c[c==0] = 1.0\n",
    "    c = 1.0/c\n",
    "    return c * warped_\n",
    "\n",
    "def merg_v2(warped):\n",
    "    arr = np.zeros((warped[0].shape[0], warped[0].shape[1], 3))\n",
    "    divide_arr = np.ones((warped[0].shape[0], warped[0].shape[1]))\n",
    "\n",
    "    for l in range(len(warped)):\n",
    "        (x, y, c) = (np.where(warped[l] != 0.0))\n",
    "        divide_arr[x, y] += 1\n",
    "        arr += warped[l]\n",
    "\n",
    "    (x, y, c) = (np.where(arr == 0.0))\n",
    "    divide_arr[x, y] = 1\n",
    "    arr[:,:,0] /= divide_arr\n",
    "    arr[:,:,1] /= divide_arr\n",
    "    arr[:,:,2] /= divide_arr\n",
    "\n",
    "    return arr\n",
    "\n",
    "def merg_avg(warped):\n",
    "    return np.array(warped).mean(axis=0)\n",
    "\n",
    "def adjust_contrast_brightness(img, contrast:float=1.0, brightness:int=0):\n",
    "    \"\"\"\n",
    "    Adjusts contrast and brightness of an uint8 image.\n",
    "    contrast:   (0.0,  inf) with 1.0 leaving the contrast as is\n",
    "    brightness: [-255, 255] with 0 leaving the brightness as is\n",
    "    \"\"\"\n",
    "    brightness += int(round(255*(1-contrast)/2))\n",
    "    return cv2.addWeighted(img, contrast, img, 0, brightness)/255\n"
   ]
  },
  {
   "cell_type": "code",
   "execution_count": 8,
   "outputs": [],
   "source": [
    "cwd = os.getcwd()\n",
    "out_dir = os.path.join(cwd, \"data_preprocessed\")\n",
    "\n",
    "dirs = [\"train\", \"validation\", \"test\"]\n",
    "fns = [\"train\", \"valid\", \"test\"]\n",
    "methods = [\"merged\", \"bri_cont\", \"invert\"]\n",
    "\n",
    "for f in methods:\n",
    "    for sub_f in fns:\n",
    "        os.makedirs(os.path.join(out_dir, f, sub_f), exist_ok=True)"
   ],
   "metadata": {
    "collapsed": false,
    "pycharm": {
     "name": "#%%\n"
    }
   }
  },
  {
   "cell_type": "code",
   "execution_count": 10,
   "id": "652f0b50",
   "metadata": {},
   "outputs": [
    {
     "name": "stdout",
     "output_type": "stream",
     "text": [
      "prc Folder: train-1-0  0-B01.png  0-B02.png  0-B03.png  0-B04.png  0-B05.png  0-G01.png  0-G02.png  0-G03.png  0-G04.png  0-G05.png"
     ]
    },
    {
     "ename": "ValueError",
     "evalue": "Floating point image RGB values must be in the 0..1 range.",
     "output_type": "error",
     "traceback": [
      "\u001B[1;31m---------------------------------------------------------------------------\u001B[0m",
      "\u001B[1;31mValueError\u001B[0m                                Traceback (most recent call last)",
      "\u001B[1;32m~\\AppData\\Local\\Temp\\1/ipykernel_33724/2610356749.py\u001B[0m in \u001B[0;36m<module>\u001B[1;34m\u001B[0m\n\u001B[0;32m     29\u001B[0m \u001B[1;33m\u001B[0m\u001B[0m\n\u001B[0;32m     30\u001B[0m                     \u001B[0mbri_cont\u001B[0m \u001B[1;33m=\u001B[0m \u001B[0madjust_contrast_brightness\u001B[0m\u001B[1;33m(\u001B[0m\u001B[0mv\u001B[0m\u001B[1;33m,\u001B[0m \u001B[0mcontrast\u001B[0m\u001B[1;33m=\u001B[0m\u001B[1;36m10\u001B[0m\u001B[1;33m,\u001B[0m \u001B[0mbrightness\u001B[0m\u001B[1;33m=\u001B[0m\u001B[1;33m-\u001B[0m\u001B[1;36m120\u001B[0m\u001B[1;33m)\u001B[0m\u001B[1;33m\u001B[0m\u001B[1;33m\u001B[0m\u001B[0m\n\u001B[1;32m---> 31\u001B[1;33m                     \u001B[0mplt\u001B[0m\u001B[1;33m.\u001B[0m\u001B[0mimsave\u001B[0m\u001B[1;33m(\u001B[0m\u001B[0mos\u001B[0m\u001B[1;33m.\u001B[0m\u001B[0mpath\u001B[0m\u001B[1;33m.\u001B[0m\u001B[0mjoin\u001B[0m\u001B[1;33m(\u001B[0m\u001B[0mout_dir\u001B[0m\u001B[1;33m,\u001B[0m \u001B[1;34m\"bri_cont\"\u001B[0m\u001B[1;33m,\u001B[0m \u001B[0mfns\u001B[0m\u001B[1;33m[\u001B[0m\u001B[0mi\u001B[0m\u001B[1;33m]\u001B[0m\u001B[1;33m,\u001B[0m \u001B[1;34mf'{folder[:-3]}{str(tf)}-{k}-bri-cont.png'\u001B[0m\u001B[1;33m)\u001B[0m\u001B[1;33m,\u001B[0m \u001B[0mbri_cont\u001B[0m\u001B[1;33m)\u001B[0m\u001B[1;33m\u001B[0m\u001B[1;33m\u001B[0m\u001B[0m\n\u001B[0m\u001B[0;32m     32\u001B[0m \u001B[1;33m\u001B[0m\u001B[0m\n\u001B[0;32m     33\u001B[0m                     \u001B[0minverted\u001B[0m \u001B[1;33m=\u001B[0m \u001B[1;33m~\u001B[0m\u001B[0mbri_cont\u001B[0m\u001B[1;33m\u001B[0m\u001B[1;33m\u001B[0m\u001B[0m\n",
      "\u001B[1;32m~\\.conda\\envs\\bk-jku\\lib\\site-packages\\matplotlib\\pyplot.py\u001B[0m in \u001B[0;36mimsave\u001B[1;34m(fname, arr, **kwargs)\u001B[0m\n\u001B[0;32m   2142\u001B[0m \u001B[1;33m@\u001B[0m\u001B[0m_copy_docstring_and_deprecators\u001B[0m\u001B[1;33m(\u001B[0m\u001B[0mmatplotlib\u001B[0m\u001B[1;33m.\u001B[0m\u001B[0mimage\u001B[0m\u001B[1;33m.\u001B[0m\u001B[0mimsave\u001B[0m\u001B[1;33m)\u001B[0m\u001B[1;33m\u001B[0m\u001B[1;33m\u001B[0m\u001B[0m\n\u001B[0;32m   2143\u001B[0m \u001B[1;32mdef\u001B[0m \u001B[0mimsave\u001B[0m\u001B[1;33m(\u001B[0m\u001B[0mfname\u001B[0m\u001B[1;33m,\u001B[0m \u001B[0marr\u001B[0m\u001B[1;33m,\u001B[0m \u001B[1;33m**\u001B[0m\u001B[0mkwargs\u001B[0m\u001B[1;33m)\u001B[0m\u001B[1;33m:\u001B[0m\u001B[1;33m\u001B[0m\u001B[1;33m\u001B[0m\u001B[0m\n\u001B[1;32m-> 2144\u001B[1;33m     \u001B[1;32mreturn\u001B[0m \u001B[0mmatplotlib\u001B[0m\u001B[1;33m.\u001B[0m\u001B[0mimage\u001B[0m\u001B[1;33m.\u001B[0m\u001B[0mimsave\u001B[0m\u001B[1;33m(\u001B[0m\u001B[0mfname\u001B[0m\u001B[1;33m,\u001B[0m \u001B[0marr\u001B[0m\u001B[1;33m,\u001B[0m \u001B[1;33m**\u001B[0m\u001B[0mkwargs\u001B[0m\u001B[1;33m)\u001B[0m\u001B[1;33m\u001B[0m\u001B[1;33m\u001B[0m\u001B[0m\n\u001B[0m\u001B[0;32m   2145\u001B[0m \u001B[1;33m\u001B[0m\u001B[0m\n\u001B[0;32m   2146\u001B[0m \u001B[1;33m\u001B[0m\u001B[0m\n",
      "\u001B[1;32m~\\.conda\\envs\\bk-jku\\lib\\site-packages\\matplotlib\\image.py\u001B[0m in \u001B[0;36mimsave\u001B[1;34m(fname, arr, vmin, vmax, cmap, format, origin, dpi, metadata, pil_kwargs)\u001B[0m\n\u001B[0;32m   1639\u001B[0m             \u001B[0mrgba\u001B[0m \u001B[1;33m=\u001B[0m \u001B[0marr\u001B[0m\u001B[1;33m\u001B[0m\u001B[1;33m\u001B[0m\u001B[0m\n\u001B[0;32m   1640\u001B[0m         \u001B[1;32melse\u001B[0m\u001B[1;33m:\u001B[0m\u001B[1;33m\u001B[0m\u001B[1;33m\u001B[0m\u001B[0m\n\u001B[1;32m-> 1641\u001B[1;33m             \u001B[0mrgba\u001B[0m \u001B[1;33m=\u001B[0m \u001B[0msm\u001B[0m\u001B[1;33m.\u001B[0m\u001B[0mto_rgba\u001B[0m\u001B[1;33m(\u001B[0m\u001B[0marr\u001B[0m\u001B[1;33m,\u001B[0m \u001B[0mbytes\u001B[0m\u001B[1;33m=\u001B[0m\u001B[1;32mTrue\u001B[0m\u001B[1;33m)\u001B[0m\u001B[1;33m\u001B[0m\u001B[1;33m\u001B[0m\u001B[0m\n\u001B[0m\u001B[0;32m   1642\u001B[0m         \u001B[1;32mif\u001B[0m \u001B[0mpil_kwargs\u001B[0m \u001B[1;32mis\u001B[0m \u001B[1;32mNone\u001B[0m\u001B[1;33m:\u001B[0m\u001B[1;33m\u001B[0m\u001B[1;33m\u001B[0m\u001B[0m\n\u001B[0;32m   1643\u001B[0m             \u001B[0mpil_kwargs\u001B[0m \u001B[1;33m=\u001B[0m \u001B[1;33m{\u001B[0m\u001B[1;33m}\u001B[0m\u001B[1;33m\u001B[0m\u001B[1;33m\u001B[0m\u001B[0m\n",
      "\u001B[1;32m~\\.conda\\envs\\bk-jku\\lib\\site-packages\\matplotlib\\cm.py\u001B[0m in \u001B[0;36mto_rgba\u001B[1;34m(self, x, alpha, bytes, norm)\u001B[0m\n\u001B[0;32m    435\u001B[0m                 \u001B[1;32mif\u001B[0m \u001B[0mxx\u001B[0m\u001B[1;33m.\u001B[0m\u001B[0mdtype\u001B[0m\u001B[1;33m.\u001B[0m\u001B[0mkind\u001B[0m \u001B[1;33m==\u001B[0m \u001B[1;34m'f'\u001B[0m\u001B[1;33m:\u001B[0m\u001B[1;33m\u001B[0m\u001B[1;33m\u001B[0m\u001B[0m\n\u001B[0;32m    436\u001B[0m                     \u001B[1;32mif\u001B[0m \u001B[0mnorm\u001B[0m \u001B[1;32mand\u001B[0m \u001B[1;33m(\u001B[0m\u001B[0mxx\u001B[0m\u001B[1;33m.\u001B[0m\u001B[0mmax\u001B[0m\u001B[1;33m(\u001B[0m\u001B[1;33m)\u001B[0m \u001B[1;33m>\u001B[0m \u001B[1;36m1\u001B[0m \u001B[1;32mor\u001B[0m \u001B[0mxx\u001B[0m\u001B[1;33m.\u001B[0m\u001B[0mmin\u001B[0m\u001B[1;33m(\u001B[0m\u001B[1;33m)\u001B[0m \u001B[1;33m<\u001B[0m \u001B[1;36m0\u001B[0m\u001B[1;33m)\u001B[0m\u001B[1;33m:\u001B[0m\u001B[1;33m\u001B[0m\u001B[1;33m\u001B[0m\u001B[0m\n\u001B[1;32m--> 437\u001B[1;33m                         raise ValueError(\"Floating point image RGB values \"\n\u001B[0m\u001B[0;32m    438\u001B[0m                                          \"must be in the 0..1 range.\")\n\u001B[0;32m    439\u001B[0m                     \u001B[1;32mif\u001B[0m \u001B[0mbytes\u001B[0m\u001B[1;33m:\u001B[0m\u001B[1;33m\u001B[0m\u001B[1;33m\u001B[0m\u001B[0m\n",
      "\u001B[1;31mValueError\u001B[0m: Floating point image RGB values must be in the 0..1 range."
     ]
    }
   ],
   "source": [
    "time_frames = 7\n",
    "mask = cv2.imread('data/mask.png',0)\n",
    "# jitter = T.ColorJitter(brightness=0.1, contrast=100)\n",
    "\n",
    "for i, sdir in enumerate(dirs):\n",
    "    train_folder_pattern = re.compile(fns[i] + '-(.*)-(.*)')\n",
    "    for folder in os.listdir(os.path.join('data', sdir)):\n",
    "        if train_folder_pattern.match(folder) is not None:\n",
    "            print('prc Folder:',folder, end='')         \n",
    "            homo = pd.read_json('data/' + sdir + '/' + folder + '/homographies.json', orient='record')\n",
    "            for tf in range(time_frames):\n",
    "                warped = []\n",
    "                for fn in os.listdir('data/' + sdir + '/' + folder):\n",
    "                    if ('merg' not in fn) and ('.png' in fn) and ( (str(tf)+'-') in fn):\n",
    "                        print(' ', fn, end='')\n",
    "                        img_f = './data/' + sdir + '/' + folder + '/' + fn\n",
    "                        img = cv2.imread(img_f)\n",
    "\n",
    "                        img = cv2.bitwise_and(img,img,mask=mask)\n",
    "                        h = makenumpy( homo[fn.replace('.png', '')] )\n",
    "\n",
    "                        warped += [cv2.warpPerspective(img/255., h, img.shape[:2] )]\n",
    "                d = {\"merg_avg_masked\" : merg_avg(warped),\n",
    "                     \"merg_v1_masked\" : merg_v1(np.array(warped)),\n",
    "                     \"merg_v2_masked\": merg_v2(warped)}\n",
    "\n",
    "                for k, v in d.items():\n",
    "                    plt.imsave(os.path.join(out_dir, \"merged\", fns[i], f'{folder[:-3]}{str(tf)}-{k}.png'), v)\n",
    "\n",
    "                    bri_cont = adjust_contrast_brightness(v, contrast=10, brightness=-120)\n",
    "                    plt.imsave(os.path.join(out_dir, \"bri_cont\", fns[i], f'{folder[:-3]}{str(tf)}-{k}-bri-cont.png'), bri_cont)\n",
    "\n",
    "                    inverted = ~bri_cont\n",
    "                    plt.imsave(os.path.join(out_dir, \"invert\", fns[i], f'{folder[:-3]}{str(tf)}-{k}-invert.png'), inverted)\n",
    "\n",
    "                # plt.imsave('data/'+dir+'/'+folder+'/'+str(tf)+'-merg_avg_masked.png',merged_avg)\n",
    "                # plt.imsave('data/'+dir+'/'+folder+'/'+str(tf)+'-merg_v1_masked.png',merged_1)\n",
    "                # plt.imsave('data/'+dir+'/'+folder+'/'+str(tf)+'-merg_v2_masked.png',merged_2)\n",
    "\n",
    "                    \n",
    "            print('\\t')\n",
    "            "
   ]
  },
  {
   "cell_type": "code",
   "execution_count": null,
   "id": "ac5c046c",
   "metadata": {},
   "outputs": [],
   "source": []
  }
 ],
 "metadata": {
  "interpreter": {
   "hash": "af1baf39f449515832b78ff90f02e1f62dc506785bf33f6e75c9fd5f9a877f3a"
  },
  "kernelspec": {
   "display_name": "Python 3.9.7 64-bit ('cvlab': conda)",
   "language": "python",
   "name": "python3"
  },
  "language_info": {
   "codemirror_mode": {
    "name": "ipython",
    "version": 3
   },
   "file_extension": ".py",
   "mimetype": "text/x-python",
   "name": "python",
   "nbconvert_exporter": "python",
   "pygments_lexer": "ipython3",
   "version": "3.9.7"
  }
 },
 "nbformat": 4,
 "nbformat_minor": 5
}