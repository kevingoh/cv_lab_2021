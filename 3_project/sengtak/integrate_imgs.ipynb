{
 "cells": [
  {
   "cell_type": "markdown",
   "id": "2bbdc5aa-b1a6-46dd-8ba9-35593e7741c1",
   "metadata": {},
   "source": [
    "# CV Lab project - Image Integration\n",
    "\n",
    "Data Exploration\n",
    "\n",
    "Description of the data:\n",
    "\n",
    "* datasets:\n",
    "    * train set, in each folder contains f-c.png and the json of the homography...\n",
    "    * validation set, contains f-c.png, homographies and true label\n",
    "    * test set, for submission\n",
    "\n",
    "* 7 frames for each of the 10 cameras à 70 images for each sample \n",
    "    * f $\\in$ {0,1,2,3,4,5,6}, where 3 is the center frame and\n",
    "    * c $\\in$ B01,...,B05,G01,...,G05 ,where B01 is the center camera"
   ]
  },
  {
   "cell_type": "markdown",
   "id": "4d22f28b",
   "metadata": {},
   "source": [
    "# ref:\n",
    "* https://www.py4u.net/discuss/1950670"
   ]
  },
  {
   "cell_type": "code",
   "execution_count": 2,
   "id": "e2d63e3d-9bb0-4541-8e8e-4e051cf5f881",
   "metadata": {},
   "outputs": [],
   "source": [
    "import pandas as pd\n",
    "import cv2\n",
    "import numpy as np\n",
    "import matplotlib.pyplot as plt\n",
    "import os\n",
    "import re"
   ]
  },
  {
   "cell_type": "markdown",
   "id": "c9d2e3c9",
   "metadata": {},
   "source": [
    "### Merging and Saving the Data\n",
    "\n",
    "To merge and save merged the images in respective folders"
   ]
  },
  {
   "cell_type": "code",
   "execution_count": 3,
   "id": "20699602",
   "metadata": {},
   "outputs": [],
   "source": [
    "def load_images_from_folder(folder, filter=None, masking=False):\n",
    "    images = []\n",
    "    mask = cv2.imread('data/mask.png',0)\n",
    "    for filename in os.listdir(folder):\n",
    "        img = None\n",
    "        if filter is None:\n",
    "            #print('?')\n",
    "            img = cv2.imread(os.path.join(folder,filename))\n",
    "            #apply masking\n",
    "            if masking:\n",
    "                img = cv2.bitwise_and(img,img,mask=mask)\n",
    "        else:\n",
    "            if filename in filter:\n",
    "                #print(filename)\n",
    "                img = cv2.imread(os.path.join(folder,filename))\n",
    "                if masking:\n",
    "                    img = cv2.bitwise_and(img,img,mask=mask)\n",
    "                \n",
    "        if img is not None:\n",
    "            images.append(img)\n",
    "    #print('Loaded {} images'.format(len(images)))\n",
    "    return images\n",
    "\n",
    "def makenumpy(df):\n",
    "    m = None\n",
    "    for r in df:\n",
    "        if m is None:\n",
    "            m = np.array(r).reshape(1,-1)\n",
    "        else:\n",
    "            m = np.concatenate((m,np.array(r).reshape(1,-1)),axis=0)\n",
    "    return m"
   ]
  },
  {
   "cell_type": "code",
   "execution_count": 4,
   "id": "64930ca7",
   "metadata": {},
   "outputs": [],
   "source": [
    "def merg_v1(warped):\n",
    "    c = (warped > 0).sum(axis=0)\n",
    "    warped_ = warped.sum(axis=0).squeeze()\n",
    "    c[c==0] = 1.0\n",
    "    c = 1.0/c\n",
    "    return c * warped_\n",
    "\n",
    "def merg_v2(warped):\n",
    "    arr = np.zeros((warped[0].shape[0], warped[0].shape[1], 3))\n",
    "    divide_arr = np.ones((warped[0].shape[0], warped[0].shape[1]))\n",
    "\n",
    "    for l in range(len(warped)):\n",
    "        (x, y, c) = (np.where(warped[l] != 0.0))\n",
    "        divide_arr[x, y] += 1\n",
    "        arr += warped[l]\n",
    "\n",
    "    (x, y, c) = (np.where(arr == 0.0))\n",
    "    divide_arr[x, y] = 1\n",
    "    arr[:,:,0] /= divide_arr\n",
    "    arr[:,:,1] /= divide_arr\n",
    "    arr[:,:,2] /= divide_arr\n",
    "\n",
    "    return arr\n",
    "\n",
    "def merg_avg(warped):\n",
    "    return np.array(warped).mean(axis=0)\n",
    "        \n"
   ]
  },
  {
   "cell_type": "code",
   "execution_count": 11,
   "id": "652f0b50",
   "metadata": {},
   "outputs": [
    {
     "name": "stdout",
     "output_type": "stream",
     "text": [
      "prc Folder: train-1-5  0-G01.png  0-G03.png  0-G02.png  0-G05.png  0-G04.png  0-B04.png  0-B05.png  0-B01.png  0-B02.png  0-B03.png  1-G05.png  1-G04.png  1-G03.png  1-G02.png  1-G01.png  1-B02.png  1-B03.png  1-B01.png  1-B04.png  1-B05.png  2-B01.png  2-B02.png  2-B03.png  2-B04.png  2-B05.png  2-G05.png  2-G04.png  2-G01.png  2-G03.png  2-G02.png  3-B04.png  3-B05.png  3-B02.png  3-B03.png  3-B01.png  3-G03.png  3-G02.png  3-G01.png  3-G05.png  3-G04.png  4-B05.png  4-B04.png  4-B01.png  4-B03.png  4-B02.png  4-G01.png  4-G02.png  4-G03.png  4-G04.png  4-G05.png  5-B03.png  5-B02.png  5-B01.png  5-B05.png  5-B04.png  5-G04.png  5-G05.png  5-G02.png  5-G03.png  5-G01.png  6-G04.png  6-G05.png  6-G01.png  6-G02.png  6-G03.png  6-B01.png  6-B03.png  6-B02.png  6-B05.png  6-B04.png\t\n",
      "prc Folder: train-1-2  0-G01.png  0-G03.png  0-G02.png  0-G05.png  0-G04.png  0-B04.png  0-B05.png  0-B01.png  0-B02.png  0-B03.png  1-G05.png  1-G04.png  1-G03.png  1-G02.png  1-G01.png  1-B02.png  1-B03.png  1-B01.png  1-B04.png  1-B05.png  2-B01.png  2-B02.png  2-B03.png  2-B04.png  2-B05.png  2-G05.png  2-G04.png  2-G01.png  2-G03.png  2-G02.png  3-B04.png  3-B05.png  3-B02.png  3-B03.png  3-B01.png  3-G03.png  3-G02.png  3-G01.png  3-G05.png  3-G04.png  4-B05.png  4-B04.png  4-B01.png  4-B03.png  4-B02.png  4-G01.png  4-G02.png  4-G03.png  4-G04.png  4-G05.png  5-B03.png  5-B02.png  5-B01.png  5-B05.png  5-B04.png  5-G04.png  5-G05.png  5-G02.png  5-G03.png  5-G01.png  6-G04.png  6-G05.png  6-G01.png  6-G02.png  6-G03.png  6-B01.png  6-B03.png  6-B02.png  6-B05.png  6-B04.png\t\n",
      "prc Folder: train-1-14  0-G01.png  0-G03.png  0-G02.png  0-G05.png  0-G04.png  0-B04.png  0-B05.png  0-B01.png  0-B02.png  0-B03.png  1-G05.png  1-G04.png  1-G03.png  1-G02.png  1-G01.png  1-B02.png  1-B03.png  1-B01.png  1-B04.png  1-B05.png  2-B01.png  2-B02.png  2-B03.png  2-B04.png  2-B05.png  2-G05.png  2-G04.png  2-G01.png  2-G03.png  2-G02.png  3-B04.png  3-B05.png  3-B02.png  3-B03.png  3-B01.png  3-G03.png  3-G02.png  3-G01.png  3-G05.png  3-G04.png  4-B05.png  4-B04.png  4-B01.png  4-B03.png  4-B02.png  4-G01.png  4-G02.png  4-G03.png  4-G04.png  4-G05.png  5-B03.png  5-B02.png  5-B01.png  5-B05.png  5-B04.png  5-G04.png  5-G05.png  5-G02.png  5-G03.png  5-G01.png  6-G04.png  6-G05.png  6-G01.png  6-G02.png  6-G03.png  6-B01.png  6-B03.png  6-B02.png  6-B05.png  6-B04.png\t\n",
      "prc Folder: train-1-13  0-G01.png  0-G03.png  0-G02.png  0-G05.png  0-G04.png  0-B04.png  0-B05.png  0-B01.png  0-B02.png  0-B03.png  1-G05.png  1-G04.png  1-G03.png  1-G02.png  1-G01.png  1-B02.png  1-B03.png  1-B01.png  1-B04.png  1-B05.png  2-B01.png  2-B02.png  2-B03.png  2-B04.png  2-B05.png  2-G05.png  2-G04.png  2-G01.png  2-G03.png  2-G02.png  3-B04.png  3-B05.png  3-B02.png  3-B03.png  3-B01.png  3-G03.png  3-G02.png  3-G01.png  3-G05.png  3-G04.png  4-B05.png  4-B04.png  4-B01.png  4-B03.png  4-B02.png  4-G01.png  4-G02.png  4-G03.png  4-G04.png  4-G05.png  5-B03.png  5-B02.png  5-B01.png  5-B05.png  5-B04.png  5-G04.png  5-G05.png  5-G02.png  5-G03.png  5-G01.png  6-G04.png  6-G05.png  6-G01.png  6-G02.png  6-G03.png  6-B01.png  6-B03.png  6-B02.png  6-B05.png  6-B04.png\t\n",
      "prc Folder: train-1-3  0-G01.png  0-G03.png  0-G02.png  0-G05.png  0-G04.png  0-B04.png  0-B05.png  0-B01.png  0-B02.png  0-B03.png  1-G05.png  1-G04.png  1-G03.png  1-G02.png  1-G01.png  1-B02.png  1-B03.png  1-B01.png  1-B04.png  1-B05.png  2-B01.png  2-B02.png  2-B03.png  2-B04.png  2-B05.png  2-G05.png  2-G04.png  2-G01.png  2-G03.png  2-G02.png  3-B04.png  3-B05.png  3-B02.png  3-B03.png  3-B01.png  3-G03.png  3-G02.png  3-G01.png  3-G05.png  3-G04.png  4-B05.png  4-B04.png  4-B01.png  4-B03.png  4-B02.png  4-G01.png  4-G02.png  4-G03.png  4-G04.png  4-G05.png  5-B03.png  5-B02.png  5-B01.png  5-B05.png  5-B04.png  5-G04.png  5-G05.png  5-G02.png  5-G03.png  5-G01.png  6-G04.png  6-G05.png  6-G01.png  6-G02.png  6-G03.png  6-B01.png  6-B03.png  6-B02.png  6-B05.png  6-B04.png\t\n",
      "prc Folder: train-1-4  0-G01.png  0-G03.png  0-G02.png  0-G05.png  0-G04.png  0-B04.png  0-B05.png  0-B01.png  0-B02.png  0-B03.png  1-G05.png  1-G04.png  1-G03.png  1-G02.png  1-G01.png  1-B02.png  1-B03.png  1-B01.png  1-B04.png  1-B05.png  2-B01.png  2-B02.png  2-B03.png  2-B04.png  2-B05.png  2-G05.png  2-G04.png  2-G01.png  2-G03.png  2-G02.png  3-B04.png  3-B05.png  3-B02.png  3-B03.png  3-B01.png  3-G03.png  3-G02.png  3-G01.png  3-G05.png  3-G04.png  4-B05.png  4-B04.png  4-B01.png  4-B03.png  4-B02.png  4-G01.png  4-G02.png  4-G03.png  4-G04.png  4-G05.png  5-B03.png  5-B02.png  5-B01.png  5-B05.png  5-B04.png  5-G04.png  5-G05.png  5-G02.png  5-G03.png  5-G01.png  6-G04.png  6-G05.png  6-G01.png  6-G02.png  6-G03.png  6-B01.png  6-B03.png  6-B02.png  6-B05.png  6-B04.png\t\n",
      "prc Folder: train-1-12  0-G01.png  0-G03.png  0-G02.png  0-G05.png  0-G04.png  0-B04.png  0-B05.png  0-B01.png  0-B02.png  0-B03.png  1-G05.png  1-G04.png  1-G03.png  1-G02.png  1-G01.png  1-B02.png  1-B03.png  1-B01.png  1-B04.png  1-B05.png  2-B01.png  2-B02.png  2-B03.png  2-B04.png  2-B05.png  2-G05.png  2-G04.png  2-G01.png  2-G03.png  2-G02.png  3-B04.png  3-B05.png  3-B02.png  3-B03.png  3-B01.png  3-G03.png  3-G02.png  3-G01.png  3-G05.png  3-G04.png  4-B05.png  4-B04.png  4-B01.png  4-B03.png  4-B02.png  4-G01.png  4-G02.png  4-G03.png  4-G04.png  4-G05.png  5-B03.png  5-B02.png  5-B01.png  5-B05.png  5-B04.png  5-G04.png  5-G05.png  5-G02.png  5-G03.png  5-G01.png  6-G04.png  6-G05.png  6-G01.png  6-G02.png  6-G03.png  6-B01.png  6-B03.png  6-B02.png  6-B05.png  6-B04.png\t\n",
      "prc Folder: train-1-15  0-G01.png  0-G03.png  0-G02.png  0-G05.png  0-G04.png  0-B04.png  0-B05.png  0-B01.png  0-B02.png  0-B03.png  1-G05.png  1-G04.png  1-G03.png  1-G02.png  1-G01.png  1-B02.png  1-B03.png  1-B01.png  1-B04.png  1-B05.png  2-B01.png  2-B02.png  2-B03.png  2-B04.png  2-B05.png  2-G05.png  2-G04.png  2-G01.png  2-G03.png  2-G02.png  3-B04.png  3-B05.png  3-B02.png  3-B03.png  3-B01.png  3-G03.png  3-G02.png  3-G01.png  3-G05.png  3-G04.png  4-B05.png  4-B04.png  4-B01.png  4-B03.png  4-B02.png  4-G01.png  4-G02.png  4-G03.png  4-G04.png  4-G05.png  5-B03.png  5-B02.png  5-B01.png  5-B05.png  5-B04.png  5-G04.png  5-G05.png  5-G02.png  5-G03.png  5-G01.png  6-G04.png  6-G05.png  6-G01.png  6-G02.png  6-G03.png  6-B01.png  6-B03.png  6-B02.png  6-B05.png  6-B04.png\t\n",
      "prc Folder: train-2-5  0-G01.png  0-G03.png  0-G02.png  0-G05.png  0-G04.png  0-B04.png  0-B05.png  0-B01.png  0-B02.png  0-B03.png  1-G05.png  1-G04.png  1-G03.png  1-G02.png  1-G01.png  1-B02.png  1-B03.png  1-B01.png  1-B04.png  1-B05.png  2-B01.png  2-B02.png  2-B03.png  2-B04.png  2-B05.png  2-G05.png  2-G04.png  2-G01.png  2-G03.png  2-G02.png  3-B04.png  3-B05.png  3-B02.png  3-B03.png  3-B01.png  3-G03.png  3-G02.png  3-G01.png  3-G05.png  3-G04.png  4-B05.png  4-B04.png  4-B01.png  4-B03.png  4-B02.png  4-G01.png  4-G02.png  4-G03.png  4-G04.png  4-G05.png  5-B03.png  5-B02.png  5-B01.png  5-B05.png  5-B04.png  5-G04.png  5-G05.png  5-G02.png  5-G03.png  5-G01.png  6-G04.png  6-G05.png  6-G01.png  6-G02.png  6-G03.png  6-B01.png  6-B03.png  6-B02.png  6-B05.png  6-B04.png\t\n",
      "prc Folder: train-2-2  0-G01.png  0-G03.png  0-G02.png  0-G05.png  0-G04.png  0-B04.png  0-B05.png  0-B01.png  0-B02.png  0-B03.png  1-G05.png  1-G04.png  1-G03.png  1-G02.png  1-G01.png  1-B02.png  1-B03.png  1-B01.png  1-B04.png  1-B05.png  2-B01.png  2-B02.png  2-B03.png  2-B04.png  2-B05.png  2-G05.png  2-G04.png  2-G01.png  2-G03.png  2-G02.png  3-B04.png  3-B05.png  3-B02.png  3-B03.png  3-B01.png  3-G03.png  3-G02.png  3-G01.png  3-G05.png  3-G04.png  4-B05.png  4-B04.png  4-B01.png  4-B03.png  4-B02.png  4-G01.png  4-G02.png  4-G03.png  4-G04.png  4-G05.png  5-B03.png  5-B02.png  5-B01.png  5-B05.png  5-B04.png  5-G04.png  5-G05.png  5-G02.png  5-G03.png  5-G01.png  6-G04.png  6-G05.png  6-G01.png  6-G02.png  6-G03.png  6-B01.png  6-B03.png  6-B02.png  6-B05.png  6-B04.png\t\n",
      "prc Folder: train-2-3  0-G01.png  0-G03.png  0-G02.png  0-G05.png  0-G04.png  0-B04.png  0-B05.png  0-B01.png  0-B02.png  0-B03.png  1-G05.png  1-G04.png  1-G03.png  1-G02.png  1-G01.png  1-B02.png  1-B03.png  1-B01.png  1-B04.png  1-B05.png  2-B01.png  2-B02.png  2-B03.png  2-B04.png  2-B05.png  2-G05.png  2-G04.png  2-G01.png  2-G03.png  2-G02.png  3-B04.png  3-B05.png  3-B02.png  3-B03.png  3-B01.png  3-G03.png  3-G02.png  3-G01.png  3-G05.png  3-G04.png  4-B05.png  4-B04.png  4-B01.png  4-B03.png  4-B02.png  4-G01.png  4-G02.png  4-G03.png  4-G04.png  4-G05.png  5-B03.png  5-B02.png  5-B01.png  5-B05.png  5-B04.png  5-G04.png  5-G05.png  5-G02.png  5-G03.png  5-G01.png  6-G04.png  6-G05.png  6-G01.png  6-G02.png  6-G03.png  6-B01.png  6-B03.png  6-B02.png  6-B05.png  6-B04.png\t\n",
      "prc Folder: train-2-4  0-G01.png  0-G03.png  0-G02.png  0-G05.png  0-G04.png  0-B04.png  0-B05.png  0-B01.png  0-B02.png  0-B03.png  1-G05.png  1-G04.png  1-G03.png  1-G02.png  1-G01.png  1-B02.png  1-B03.png  1-B01.png  1-B04.png  1-B05.png  2-B01.png  2-B02.png  2-B03.png  2-B04.png  2-B05.png  2-G05.png  2-G04.png  2-G01.png  2-G03.png  2-G02.png  3-B04.png  3-B05.png  3-B02.png  3-B03.png  3-B01.png  3-G03.png  3-G02.png  3-G01.png  3-G05.png  3-G04.png  4-B05.png  4-B04.png  4-B01.png  4-B03.png  4-B02.png  4-G01.png  4-G02.png  4-G03.png  4-G04.png  4-G05.png  5-B03.png  5-B02.png  5-B01.png  5-B05.png  5-B04.png  5-G04.png  5-G05.png  5-G02.png  5-G03.png  5-G01.png  6-G04.png  6-G05.png  6-G01.png  6-G02.png  6-G03.png  6-B01.png  6-B03.png  6-B02.png  6-B05.png  6-B04.png\t\n",
      "prc Folder: train-1-10  0-G01.png  0-G03.png  0-G02.png  0-G05.png  0-G04.png  0-B04.png  0-B05.png  0-B01.png  0-B02.png  0-B03.png  1-G05.png  1-G04.png  1-G03.png  1-G02.png  1-G01.png  1-B02.png  1-B03.png  1-B01.png  1-B04.png  1-B05.png  2-B01.png  2-B02.png  2-B03.png  2-B04.png  2-B05.png  2-G05.png  2-G04.png  2-G01.png  2-G03.png  2-G02.png  3-B04.png  3-B05.png  3-B02.png  3-B03.png  3-B01.png  3-G03.png  3-G02.png  3-G01.png  3-G05.png  3-G04.png  4-B05.png  4-B04.png  4-B01.png  4-B03.png  4-B02.png  4-G01.png  4-G02.png  4-G03.png  4-G04.png  4-G05.png  5-B03.png  5-B02.png  5-B01.png  5-B05.png  5-B04.png  5-G04.png  5-G05.png  5-G02.png  5-G03.png  5-G01.png  6-G04.png  6-G05.png  6-G01.png  6-G02.png  6-G03.png  6-B01.png  6-B03.png  6-B02.png  6-B05.png  6-B04.png\t\n",
      "prc Folder: train-1-8  0-G01.png  0-G03.png  0-G02.png  0-G05.png  0-G04.png  0-B04.png  0-B05.png  0-B01.png  0-B02.png  0-B03.png  1-G05.png  1-G04.png  1-G03.png  1-G02.png  1-G01.png  1-B02.png  1-B03.png  1-B01.png  1-B04.png  1-B05.png  2-B01.png  2-B02.png  2-B03.png  2-B04.png  2-B05.png  2-G05.png  2-G04.png  2-G01.png  2-G03.png  2-G02.png  3-B04.png  3-B05.png  3-B02.png  3-B03.png  3-B01.png  3-G03.png  3-G02.png  3-G01.png  3-G05.png  3-G04.png  4-B05.png  4-B04.png  4-B01.png  4-B03.png  4-B02.png  4-G01.png  4-G02.png  4-G03.png  4-G04.png  4-G05.png  5-B03.png  5-B02.png  5-B01.png  5-B05.png  5-B04.png  5-G04.png  5-G05.png  5-G02.png  5-G03.png  5-G01.png  6-G04.png  6-G05.png  6-G01.png  6-G02.png  6-G03.png  6-B01.png  6-B03.png  6-B02.png  6-B05.png  6-B04.png\t\n",
      "prc Folder: train-1-1  0-G01.png  0-G03.png  0-G02.png  0-G05.png  0-G04.png  0-B04.png  0-B05.png  0-B01.png  0-B02.png  0-B03.png  1-G05.png  1-G04.png  1-G03.png  1-G02.png  1-G01.png  1-B02.png  1-B03.png  1-B01.png  1-B04.png  1-B05.png  2-B01.png  2-B02.png  2-B03.png  2-B04.png  2-B05.png  2-G05.png  2-G04.png  2-G01.png  2-G03.png  2-G02.png  3-B04.png  3-B05.png  3-B02.png  3-B03.png  3-B01.png  3-G03.png  3-G02.png  3-G01.png  3-G05.png  3-G04.png  4-B05.png  4-B04.png  4-B01.png  4-B03.png  4-B02.png  4-G01.png  4-G02.png  4-G03.png  4-G04.png  4-G05.png  5-B03.png  5-B02.png  5-B01.png  5-B05.png  5-B04.png  5-G04.png  5-G05.png  5-G02.png  5-G03.png  5-G01.png  6-G04.png  6-G05.png  6-G01.png  6-G02.png  6-G03.png  6-B01.png  6-B03.png  6-B02.png  6-B05.png  6-B04.png\t\n",
      "prc Folder: train-1-6  0-G01.png  0-G03.png  0-G02.png  0-G05.png  0-G04.png  0-B04.png  0-B05.png  0-B01.png  0-B02.png  0-B03.png  1-G05.png  1-G04.png  1-G03.png  1-G02.png  1-G01.png  1-B02.png  1-B03.png  1-B01.png  1-B04.png  1-B05.png  2-B01.png  2-B02.png  2-B03.png  2-B04.png  2-B05.png  2-G05.png  2-G04.png  2-G01.png  2-G03.png  2-G02.png  3-B04.png  3-B05.png  3-B02.png  3-B03.png  3-B01.png  3-G03.png  3-G02.png  3-G01.png  3-G05.png  3-G04.png  4-B05.png  4-B04.png  4-B01.png  4-B03.png  4-B02.png  4-G01.png  4-G02.png  4-G03.png  4-G04.png  4-G05.png  5-B03.png  5-B02.png  5-B01.png  5-B05.png  5-B04.png  5-G04.png  5-G05.png  5-G02.png  5-G03.png  5-G01.png  6-G04.png  6-G05.png  6-G01.png  6-G02.png  6-G03.png  6-B01.png  6-B03.png  6-B02.png  6-B05.png  6-B04.png\t\n",
      "prc Folder: train-1-11  0-G01.png  0-G03.png  0-G02.png  0-G05.png  0-G04.png  0-B04.png  0-B05.png  0-B01.png  0-B02.png  0-B03.png  1-G05.png  1-G04.png  1-G03.png  1-G02.png  1-G01.png  1-B02.png  1-B03.png  1-B01.png  1-B04.png  1-B05.png  2-B01.png  2-B02.png  2-B03.png  2-B04.png  2-B05.png  2-G05.png  2-G04.png  2-G01.png  2-G03.png  2-G02.png  3-B04.png  3-B05.png  3-B02.png  3-B03.png  3-B01.png  3-G03.png  3-G02.png  3-G01.png  3-G05.png  3-G04.png  4-B05.png  4-B04.png  4-B01.png  4-B03.png  4-B02.png  4-G01.png  4-G02.png  4-G03.png  4-G04.png  4-G05.png  5-B03.png  5-B02.png  5-B01.png  5-B05.png  5-B04.png  5-G04.png  5-G05.png  5-G02.png  5-G03.png  5-G01.png  6-G04.png  6-G05.png  6-G01.png  6-G02.png  6-G03.png  6-B01.png  6-B03.png  6-B02.png  6-B05.png  6-B04.png\t\n",
      "prc Folder: train-1-7  0-G01.png  0-G03.png  0-G02.png  0-G05.png  0-G04.png  0-B04.png  0-B05.png  0-B01.png  0-B02.png  0-B03.png  1-G05.png  1-G04.png  1-G03.png  1-G02.png  1-G01.png  1-B02.png  1-B03.png  1-B01.png  1-B04.png  1-B05.png  2-B01.png  2-B02.png  2-B03.png  2-B04.png  2-B05.png  2-G05.png  2-G04.png  2-G01.png  2-G03.png  2-G02.png  3-B04.png  3-B05.png  3-B02.png  3-B03.png  3-B01.png  3-G03.png  3-G02.png  3-G01.png  3-G05.png  3-G04.png  4-B05.png  4-B04.png  4-B01.png  4-B03.png  4-B02.png  4-G01.png  4-G02.png  4-G03.png  4-G04.png  4-G05.png  5-B03.png  5-B02.png  5-B01.png  5-B05.png  5-B04.png  5-G04.png  5-G05.png  5-G02.png  5-G03.png  5-G01.png  6-G04.png  6-G05.png  6-G01.png  6-G02.png  6-G03.png  6-B01.png  6-B03.png  6-B02.png  6-B05.png  6-B04.png\t\n",
      "prc Folder: train-1-0  0-G01.png  0-G03.png  0-G02.png  0-G05.png  0-G04.png  0-B04.png  0-B05.png  0-B01.png  0-B02.png  0-B03.png  1-G05.png  1-G04.png  1-G03.png  1-G02.png  1-G01.png  1-B02.png  1-B03.png  1-B01.png  1-B04.png  1-B05.png  2-B01.png  2-B02.png  2-B03.png  2-B04.png  2-B05.png  2-G05.png  2-G04.png  2-G01.png  2-G03.png  2-G02.png  3-B04.png  3-B05.png  3-B02.png  3-B03.png  3-B01.png  3-G03.png  3-G02.png  3-G01.png  3-G05.png  3-G04.png  4-B05.png  4-B04.png  4-B01.png  4-B03.png  4-B02.png  4-G01.png  4-G02.png  4-G03.png  4-G04.png  4-G05.png  5-B03.png  5-B02.png  5-B01.png  5-B05.png  5-B04.png  5-G04.png  5-G05.png  5-G02.png  5-G03.png  5-G01.png  6-G04.png  6-G05.png  6-G01.png  6-G02.png  6-G03.png  6-B01.png  6-B03.png  6-B02.png  6-B05.png  6-B04.png\t\n",
      "prc Folder: train-1-9  0-G01.png  0-G03.png  0-G02.png  0-G05.png  0-G04.png  0-B04.png  0-B05.png  0-B01.png  0-B02.png  0-B03.png  1-G05.png  1-G04.png  1-G03.png  1-G02.png  1-G01.png  1-B02.png  1-B03.png  1-B01.png  1-B04.png  1-B05.png  2-B01.png  2-B02.png  2-B03.png  2-B04.png  2-B05.png  2-G05.png  2-G04.png  2-G01.png  2-G03.png  2-G02.png  3-B04.png  3-B05.png  3-B02.png  3-B03.png  3-B01.png  3-G03.png  3-G02.png  3-G01.png  3-G05.png  3-G04.png  4-B05.png  4-B04.png  4-B01.png  4-B03.png  4-B02.png  4-G01.png  4-G02.png  4-G03.png  4-G04.png  4-G05.png  5-B03.png  5-B02.png  5-B01.png  5-B05.png  5-B04.png  5-G04.png  5-G05.png  5-G02.png  5-G03.png  5-G01.png  6-G04.png  6-G05.png  6-G01.png  6-G02.png  6-G03.png  6-B01.png  6-B03.png  6-B02.png  6-B05.png  6-B04.png\t\n",
      "prc Folder: train-2-8  0-G01.png  0-G03.png  0-G02.png  0-G05.png  0-G04.png  0-B04.png  0-B05.png  0-B01.png  0-B02.png  0-B03.png  1-G05.png  1-G04.png  1-G03.png  1-G02.png  1-G01.png  1-B02.png  1-B03.png  1-B01.png  1-B04.png  1-B05.png  2-B01.png  2-B02.png  2-B03.png  2-B04.png  2-B05.png  2-G05.png  2-G04.png  2-G01.png  2-G03.png  2-G02.png  3-B04.png  3-B05.png  3-B02.png  3-B03.png  3-B01.png  3-G03.png  3-G02.png  3-G01.png  3-G05.png  3-G04.png  4-B05.png  4-B04.png  4-B01.png  4-B03.png  4-B02.png  4-G01.png  4-G02.png  4-G03.png  4-G04.png  4-G05.png  5-B03.png  5-B02.png  5-B01.png  5-B05.png  5-B04.png  5-G04.png  5-G05.png  5-G02.png  5-G03.png  5-G01.png  6-G04.png  6-G05.png  6-G01.png  6-G02.png  6-G03.png  6-B01.png  6-B03.png  6-B02.png  6-B05.png  6-B04.png\t\n",
      "prc Folder: train-2-1  0-G01.png  0-G03.png  0-G02.png  0-G05.png  0-G04.png  0-B04.png  0-B05.png  0-B01.png  0-B02.png  0-B03.png  1-G05.png  1-G04.png  1-G03.png  1-G02.png  1-G01.png  1-B02.png  1-B03.png  1-B01.png  1-B04.png  1-B05.png  2-B01.png  2-B02.png  2-B03.png  2-B04.png  2-B05.png  2-G05.png  2-G04.png  2-G01.png  2-G03.png  2-G02.png  3-B04.png  3-B05.png  3-B02.png  3-B03.png  3-B01.png  3-G03.png  3-G02.png  3-G01.png  3-G05.png  3-G04.png  4-B05.png  4-B04.png  4-B01.png  4-B03.png  4-B02.png  4-G01.png  4-G02.png  4-G03.png  4-G04.png  4-G05.png  5-B03.png  5-B02.png  5-B01.png  5-B05.png  5-B04.png  5-G04.png  5-G05.png  5-G02.png  5-G03.png  5-G01.png  6-G04.png  6-G05.png  6-G01.png  6-G02.png  6-G03.png  6-B01.png  6-B03.png  6-B02.png  6-B05.png  6-B04.png\t\n",
      "prc Folder: train-2-6  0-G01.png  0-G03.png  0-G02.png  0-G05.png  0-G04.png  0-B04.png  0-B05.png  0-B01.png  0-B02.png  0-B03.png  1-G05.png  1-G04.png  1-G03.png  1-G02.png  1-G01.png  1-B02.png  1-B03.png  1-B01.png  1-B04.png  1-B05.png  2-B01.png  2-B02.png  2-B03.png  2-B04.png  2-B05.png  2-G05.png  2-G04.png  2-G01.png  2-G03.png  2-G02.png  3-B04.png  3-B05.png  3-B02.png  3-B03.png  3-B01.png  3-G03.png  3-G02.png  3-G01.png  3-G05.png  3-G04.png  4-B05.png  4-B04.png  4-B01.png  4-B03.png  4-B02.png  4-G01.png  4-G02.png  4-G03.png  4-G04.png  4-G05.png  5-B03.png  5-B02.png  5-B01.png  5-B05.png  5-B04.png  5-G04.png  5-G05.png  5-G02.png  5-G03.png  5-G01.png  6-G04.png  6-G05.png  6-G01.png  6-G02.png  6-G03.png  6-B01.png  6-B03.png  6-B02.png  6-B05.png  6-B04.png\t\n",
      "prc Folder: train-2-7  0-G01.png  0-G03.png  0-G02.png  0-G05.png  0-G04.png  0-B04.png  0-B05.png  0-B01.png  0-B02.png  0-B03.png  1-G05.png  1-G04.png  1-G03.png  1-G02.png  1-G01.png  1-B02.png  1-B03.png  1-B01.png  1-B04.png  1-B05.png  2-B01.png  2-B02.png  2-B03.png  2-B04.png  2-B05.png  2-G05.png  2-G04.png  2-G01.png  2-G03.png  2-G02.png  3-B04.png  3-B05.png  3-B02.png  3-B03.png  3-B01.png  3-G03.png  3-G02.png  3-G01.png  3-G05.png  3-G04.png  4-B05.png  4-B04.png  4-B01.png  4-B03.png  4-B02.png  4-G01.png  4-G02.png  4-G03.png  4-G04.png  4-G05.png  5-B03.png  5-B02.png  5-B01.png  5-B05.png  5-B04.png  5-G04.png  5-G05.png  5-G02.png  5-G03.png  5-G01.png  6-G04.png  6-G05.png  6-G01.png  6-G02.png  6-G03.png  6-B01.png  6-B03.png  6-B02.png  6-B05.png  6-B04.png\t\n",
      "prc Folder: train-2-0  0-G01.png  0-G03.png  0-G02.png  0-G05.png  0-G04.png  0-B04.png  0-B05.png  0-B01.png  0-B02.png  0-B03.png  1-G05.png  1-G04.png  1-G03.png  1-G02.png  1-G01.png  1-B02.png  1-B03.png  1-B01.png  1-B04.png  1-B05.png  2-B01.png  2-B02.png  2-B03.png  2-B04.png  2-B05.png  2-G05.png  2-G04.png  2-G01.png  2-G03.png  2-G02.png  3-B04.png  3-B05.png  3-B02.png  3-B03.png  3-B01.png  3-G03.png  3-G02.png  3-G01.png  3-G05.png  3-G04.png  4-B05.png  4-B04.png  4-B01.png  4-B03.png  4-B02.png  4-G01.png  4-G02.png  4-G03.png  4-G04.png  4-G05.png  5-B03.png  5-B02.png  5-B01.png  5-B05.png  5-B04.png  5-G04.png  5-G05.png  5-G02.png  5-G03.png  5-G01.png  6-G04.png  6-G05.png  6-G01.png  6-G02.png  6-G03.png  6-B01.png  6-B03.png  6-B02.png  6-B05.png  6-B04.png\t\n",
      "prc Folder: train-2-9  0-G01.png  0-G03.png  0-G02.png  0-G05.png  0-G04.png  0-B04.png  0-B05.png  0-B01.png  0-B02.png  0-B03.png  1-G05.png  1-G04.png  1-G03.png  1-G02.png  1-G01.png  1-B02.png  1-B03.png  1-B01.png  1-B04.png  1-B05.png"
     ]
    }
   ],
   "source": [
    "dirs = ['train','validation']\n",
    "fns = ['train','valid']\n",
    "time_frames = 7\n",
    "mask = cv2.imread('data/mask.png',0)\n",
    "\n",
    "for d, dir in enumerate(dirs):\n",
    "    train_folder_pattern = re.compile(fns[d]+'-(.*)-(.*)')\n",
    "    for folder in os.listdir('./data/'+dir):  \n",
    "        if train_folder_pattern.match(folder) is not None:\n",
    "            print('prc Folder:',folder, end='')         \n",
    "            homo = pd.read_json('./data/'+dir+'/'+folder+'/homographies.json', orient='record')\n",
    "            \n",
    "            for tf in range(time_frames):\n",
    "                warped = []\n",
    "                for fn in os.listdir('./data/'+dir+'/'+folder):\n",
    "                    if ('merg' not in fn) and ('.png' in fn) and ( (str(tf)+'-') in fn):\n",
    "                        print(' ', fn, end='')\n",
    "                        img_f = './data/'+dir+'/'+folder+'/'+fn\n",
    "                        img = cv2.imread(img_f)\n",
    "\n",
    "                        img = cv2.bitwise_and(img,img,mask=mask)\n",
    "                        h = makenumpy( homo[ fn.replace('.png', '')] )\n",
    "                        \n",
    "                        warped += [cv2.warpPerspective(img/255., h, img.shape[:2] )]\n",
    "\n",
    "                merged_1 = merg_v1(np.array(warped))\n",
    "                merged_2 = merg_v2(warped)  \n",
    "                merged_avg = merg_avg(warped)\n",
    "\n",
    "                plt.imsave('./data/'+dir+'/'+folder+'/'+str(tf)+'-merg_avg_masked.png',merged_avg)\n",
    "                plt.imsave('./data/'+dir+'/'+folder+'/'+str(tf)+'-merg_v1_masked.png',merged_1)\n",
    "                plt.imsave('./data/'+dir+'/'+folder+'/'+str(tf)+'-merg_v2_masked.png',merged_2) \n",
    "\n",
    "                    \n",
    "            print('\\t')\n",
    "            "
   ]
  },
  {
   "cell_type": "code",
   "execution_count": null,
   "id": "ac5c046c",
   "metadata": {},
   "outputs": [],
   "source": []
  }
 ],
 "metadata": {
  "interpreter": {
   "hash": "af1baf39f449515832b78ff90f02e1f62dc506785bf33f6e75c9fd5f9a877f3a"
  },
  "kernelspec": {
   "display_name": "Python 3.9.7 64-bit ('cvlab': conda)",
   "language": "python",
   "name": "python3"
  },
  "language_info": {
   "codemirror_mode": {
    "name": "ipython",
    "version": 3
   },
   "file_extension": ".py",
   "mimetype": "text/x-python",
   "name": "python",
   "nbconvert_exporter": "python",
   "pygments_lexer": "ipython3",
   "version": "3.9.7"
  }
 },
 "nbformat": 4,
 "nbformat_minor": 5
}
